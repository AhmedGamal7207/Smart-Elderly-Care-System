{
  "nbformat": 4,
  "nbformat_minor": 0,
  "metadata": {
    "colab": {
      "provenance": [],
      "gpuType": "T4"
    },
    "kernelspec": {
      "name": "python3",
      "display_name": "Python 3"
    },
    "language_info": {
      "name": "python"
    },
    "accelerator": "GPU"
  },
  "cells": [
    {
      "cell_type": "markdown",
      "source": [
        "# Packages"
      ],
      "metadata": {
        "id": "kKuUXxjXDSjx"
      }
    },
    {
      "cell_type": "code",
      "execution_count": null,
      "metadata": {
        "id": "8QqWntsqQ21u"
      },
      "outputs": [],
      "source": [
        "import numpy as np\n",
        "import pandas as pd\n",
        "from sklearn.model_selection import train_test_split\n",
        "from sklearn.preprocessing import StandardScaler\n",
        "import tensorflow as tf\n",
        "from tensorflow import keras\n",
        "from tensorflow.keras import layers\n",
        "from google.colab import drive\n",
        "from tensorflow.keras.models import load_model\n",
        "\n",
        "# Firebase\n",
        "import firebase_admin\n",
        "from firebase_admin import db\n",
        "import json"
      ]
    },
    {
      "cell_type": "markdown",
      "source": [
        "# Turn On GPU"
      ],
      "metadata": {
        "id": "iTWDgbZ2DUQr"
      }
    },
    {
      "cell_type": "code",
      "source": [
        "# Avoid OOM errors by setting GPU Memory Consumption Growth\n",
        "gpus = tf.config.experimental.list_physical_devices('GPU') # Return all the GPUS in my device\n",
        "for gpu in gpus: # For each GPU you found\n",
        "    tf.config.experimental.set_memory_growth(gpu, True) # Maximize its usage"
      ],
      "metadata": {
        "id": "V24lfcJp_G5j"
      },
      "execution_count": null,
      "outputs": []
    },
    {
      "cell_type": "markdown",
      "source": [
        "# Load Data from Google Drive"
      ],
      "metadata": {
        "id": "LkyhGQXTDaQ-"
      }
    },
    {
      "cell_type": "code",
      "source": [
        "drive.mount('/content/gdrive')"
      ],
      "metadata": {
        "colab": {
          "base_uri": "https://localhost:8080/"
        },
        "id": "CNxv72JqQ575",
        "outputId": "9872aaa9-cacb-4660-d46e-3eaff6a21c3b"
      },
      "execution_count": null,
      "outputs": [
        {
          "output_type": "stream",
          "name": "stdout",
          "text": [
            "Mounted at /content/gdrive\n"
          ]
        }
      ]
    },
    {
      "cell_type": "code",
      "source": [
        "file_path = '/content/gdrive/MyDrive/Data.csv'\n",
        "\n",
        "# Load the data using pandas\n",
        "data = pd.read_csv(file_path)\n",
        "data = data.dropna()"
      ],
      "metadata": {
        "id": "NWMezhrNU0Ga"
      },
      "execution_count": null,
      "outputs": []
    },
    {
      "cell_type": "code",
      "source": [
        "model_path = '/content/gdrive/MyDrive/weather_model.h5'\n",
        "model = load_model(model_path)"
      ],
      "metadata": {
        "id": "E6RAunFOFVog"
      },
      "execution_count": null,
      "outputs": []
    },
    {
      "cell_type": "code",
      "source": [
        "creds_path = '/content/gdrive/MyDrive/creds.json'\n",
        "cred_obj = firebase_admin.credentials.Certificate(creds_path)\n",
        "default_app = firebase_admin.initialize_app(cred_obj, {\n",
        "\t'databaseURL':'https://elderly-care-2d133-default-rtdb.firebaseio.com/'\n",
        "\t})"
      ],
      "metadata": {
        "id": "L-t8KbHuGE9f"
      },
      "execution_count": null,
      "outputs": []
    },
    {
      "cell_type": "markdown",
      "source": [
        "***Model Creation Start***"
      ],
      "metadata": {
        "id": "kV-n5VKPFx25"
      }
    },
    {
      "cell_type": "markdown",
      "source": [
        "# Training and Validation Data"
      ],
      "metadata": {
        "id": "J1QjqgndDf0Z"
      }
    },
    {
      "cell_type": "code",
      "source": [
        "# Split the data into input (X) and output (y) variables\n",
        "X = data[['Temperature (°C)', 'Humidity (%)']].values\n",
        "y = data[['Wind Speed (m/s)', 'Maximum Wind Speed (m/s)']].values"
      ],
      "metadata": {
        "id": "HD4x33t5Xs8N"
      },
      "execution_count": null,
      "outputs": []
    },
    {
      "cell_type": "code",
      "source": [
        "# Split the data into training and validation sets (80% training, 20% validation)\n",
        "X_train, X_val, y_train, y_val = train_test_split(X, y, test_size=0.2, random_state=42)"
      ],
      "metadata": {
        "id": "elGn2wbZaWsN"
      },
      "execution_count": null,
      "outputs": []
    },
    {
      "cell_type": "markdown",
      "source": [
        "# Creating Model"
      ],
      "metadata": {
        "id": "cM6LLmwsDkHO"
      }
    },
    {
      "cell_type": "code",
      "source": [
        "model = keras.Sequential([\n",
        "    layers.Dense(128, activation='relu', input_shape=(2,)),\n",
        "    layers.Dropout(0.2),\n",
        "    layers.Dense(64, activation='relu'),\n",
        "    layers.Dropout(0.2),\n",
        "    layers.Dense(32, activation='relu'),\n",
        "    layers.Dense(2)\n",
        "])"
      ],
      "metadata": {
        "id": "u7Zre9e8ajqd"
      },
      "execution_count": null,
      "outputs": []
    },
    {
      "cell_type": "code",
      "source": [
        "# Compile the model\n",
        "optimizer = keras.optimizers.Adam(learning_rate=0.001)\n",
        "model.compile(optimizer=optimizer, loss='mse') # Mean Squared Error loss for regression"
      ],
      "metadata": {
        "id": "9vR2HOL2aowY"
      },
      "execution_count": null,
      "outputs": []
    },
    {
      "cell_type": "markdown",
      "source": [
        "# Model Epochs"
      ],
      "metadata": {
        "id": "-4kBdIMhDmwg"
      }
    },
    {
      "cell_type": "code",
      "source": [
        "# Train the model\n",
        "history = model.fit(X_train, y_train, epochs=50, batch_size=32, validation_data=(X_val, y_val))"
      ],
      "metadata": {
        "colab": {
          "base_uri": "https://localhost:8080/"
        },
        "id": "RB2EYRU8atH9",
        "outputId": "d04c7af7-725e-436f-eca1-bcbf9832fe97"
      },
      "execution_count": null,
      "outputs": [
        {
          "output_type": "stream",
          "name": "stdout",
          "text": [
            "Epoch 1/50\n",
            "2084/2084 [==============================] - 17s 5ms/step - loss: 4.3794 - val_loss: 3.9291\n",
            "Epoch 2/50\n",
            "2084/2084 [==============================] - 9s 4ms/step - loss: 3.6316 - val_loss: 3.2820\n",
            "Epoch 3/50\n",
            "2084/2084 [==============================] - 10s 5ms/step - loss: 3.4373 - val_loss: 3.2115\n",
            "Epoch 4/50\n",
            "2084/2084 [==============================] - 10s 5ms/step - loss: 3.3908 - val_loss: 3.1757\n",
            "Epoch 5/50\n",
            "2084/2084 [==============================] - 9s 4ms/step - loss: 3.3675 - val_loss: 3.2147\n",
            "Epoch 6/50\n",
            "2084/2084 [==============================] - 9s 4ms/step - loss: 3.3629 - val_loss: 3.2314\n",
            "Epoch 7/50\n",
            "2084/2084 [==============================] - 10s 5ms/step - loss: 3.3532 - val_loss: 3.3075\n",
            "Epoch 8/50\n",
            "2084/2084 [==============================] - 9s 4ms/step - loss: 3.3460 - val_loss: 3.3046\n",
            "Epoch 9/50\n",
            "2084/2084 [==============================] - 9s 4ms/step - loss: 3.3439 - val_loss: 3.2701\n",
            "Epoch 10/50\n",
            "2084/2084 [==============================] - 10s 5ms/step - loss: 3.3374 - val_loss: 3.2961\n",
            "Epoch 11/50\n",
            "2084/2084 [==============================] - 10s 5ms/step - loss: 3.3293 - val_loss: 3.2274\n",
            "Epoch 12/50\n",
            "2084/2084 [==============================] - 8s 4ms/step - loss: 3.3251 - val_loss: 3.2852\n",
            "Epoch 13/50\n",
            "2084/2084 [==============================] - 10s 5ms/step - loss: 3.3257 - val_loss: 3.2029\n",
            "Epoch 14/50\n",
            "2084/2084 [==============================] - 11s 5ms/step - loss: 3.3276 - val_loss: 3.2516\n",
            "Epoch 15/50\n",
            "2084/2084 [==============================] - 8s 4ms/step - loss: 3.3231 - val_loss: 3.2338\n",
            "Epoch 16/50\n",
            "2084/2084 [==============================] - 10s 5ms/step - loss: 3.3172 - val_loss: 3.1733\n",
            "Epoch 17/50\n",
            "2084/2084 [==============================] - 10s 5ms/step - loss: 3.3200 - val_loss: 3.1520\n",
            "Epoch 18/50\n",
            "2084/2084 [==============================] - 8s 4ms/step - loss: 3.3153 - val_loss: 3.1321\n",
            "Epoch 19/50\n",
            "2084/2084 [==============================] - 10s 5ms/step - loss: 3.3185 - val_loss: 3.1443\n",
            "Epoch 20/50\n",
            "2084/2084 [==============================] - 10s 5ms/step - loss: 3.3133 - val_loss: 3.1832\n",
            "Epoch 21/50\n",
            "2084/2084 [==============================] - 9s 4ms/step - loss: 3.3147 - val_loss: 3.1561\n",
            "Epoch 22/50\n",
            "2084/2084 [==============================] - 10s 5ms/step - loss: 3.3101 - val_loss: 3.1749\n",
            "Epoch 23/50\n",
            "2084/2084 [==============================] - 10s 5ms/step - loss: 3.3133 - val_loss: 3.1571\n",
            "Epoch 24/50\n",
            "2084/2084 [==============================] - 8s 4ms/step - loss: 3.3089 - val_loss: 3.2180\n",
            "Epoch 25/50\n",
            "2084/2084 [==============================] - 10s 5ms/step - loss: 3.3104 - val_loss: 3.1016\n",
            "Epoch 26/50\n",
            "2084/2084 [==============================] - 10s 5ms/step - loss: 3.3083 - val_loss: 3.1223\n",
            "Epoch 27/50\n",
            "2084/2084 [==============================] - 10s 5ms/step - loss: 3.3084 - val_loss: 3.1428\n",
            "Epoch 28/50\n",
            "2084/2084 [==============================] - 9s 4ms/step - loss: 3.3043 - val_loss: 3.1444\n",
            "Epoch 29/50\n",
            "2084/2084 [==============================] - 10s 5ms/step - loss: 3.3033 - val_loss: 3.1289\n",
            "Epoch 30/50\n",
            "2084/2084 [==============================] - 10s 5ms/step - loss: 3.3068 - val_loss: 3.1873\n",
            "Epoch 31/50\n",
            "2084/2084 [==============================] - 9s 4ms/step - loss: 3.3064 - val_loss: 3.1291\n",
            "Epoch 32/50\n",
            "2084/2084 [==============================] - 10s 5ms/step - loss: 3.3097 - val_loss: 3.3400\n",
            "Epoch 33/50\n",
            "2084/2084 [==============================] - 10s 5ms/step - loss: 3.3073 - val_loss: 3.1255\n",
            "Epoch 34/50\n",
            "2084/2084 [==============================] - 9s 4ms/step - loss: 3.3028 - val_loss: 3.2357\n",
            "Epoch 35/50\n",
            "2084/2084 [==============================] - 10s 5ms/step - loss: 3.2998 - val_loss: 3.0860\n",
            "Epoch 36/50\n",
            "2084/2084 [==============================] - 10s 5ms/step - loss: 3.2988 - val_loss: 3.1599\n",
            "Epoch 37/50\n",
            "2084/2084 [==============================] - 8s 4ms/step - loss: 3.2995 - val_loss: 3.1099\n",
            "Epoch 38/50\n",
            "2084/2084 [==============================] - 10s 5ms/step - loss: 3.3031 - val_loss: 3.0912\n",
            "Epoch 39/50\n",
            "2084/2084 [==============================] - 10s 5ms/step - loss: 3.3055 - val_loss: 3.2941\n",
            "Epoch 40/50\n",
            "2084/2084 [==============================] - 9s 4ms/step - loss: 3.2973 - val_loss: 3.1685\n",
            "Epoch 41/50\n",
            "2084/2084 [==============================] - 10s 5ms/step - loss: 3.3006 - val_loss: 3.1625\n",
            "Epoch 42/50\n",
            "2084/2084 [==============================] - 10s 5ms/step - loss: 3.3036 - val_loss: 3.1630\n",
            "Epoch 43/50\n",
            "2084/2084 [==============================] - 8s 4ms/step - loss: 3.2976 - val_loss: 3.1136\n",
            "Epoch 44/50\n",
            "2084/2084 [==============================] - 10s 5ms/step - loss: 3.3031 - val_loss: 3.2461\n",
            "Epoch 45/50\n",
            "2084/2084 [==============================] - 10s 5ms/step - loss: 3.2990 - val_loss: 3.1909\n",
            "Epoch 46/50\n",
            "2084/2084 [==============================] - 8s 4ms/step - loss: 3.2986 - val_loss: 3.2671\n",
            "Epoch 47/50\n",
            "2084/2084 [==============================] - 10s 5ms/step - loss: 3.2987 - val_loss: 3.1742\n",
            "Epoch 48/50\n",
            "2084/2084 [==============================] - 10s 5ms/step - loss: 3.2933 - val_loss: 3.1380\n",
            "Epoch 49/50\n",
            "2084/2084 [==============================] - 9s 4ms/step - loss: 3.2972 - val_loss: 3.1716\n",
            "Epoch 50/50\n",
            "2084/2084 [==============================] - 10s 5ms/step - loss: 3.2934 - val_loss: 3.1371\n"
          ]
        }
      ]
    },
    {
      "cell_type": "code",
      "source": [
        "# Train the model with learning rate scheduling\n",
        "lr_scheduler = keras.callbacks.ReduceLROnPlateau(factor=0.5, patience=3)\n",
        "history = model.fit(X_train, y_train, epochs=50, batch_size=32, validation_data=(X_val, y_val), callbacks=[lr_scheduler])"
      ],
      "metadata": {
        "colab": {
          "base_uri": "https://localhost:8080/"
        },
        "id": "rBCeJc1KcO5l",
        "outputId": "e2da2c0c-3704-4dfd-f6dd-46f44fd020f6"
      },
      "execution_count": null,
      "outputs": [
        {
          "output_type": "stream",
          "name": "stdout",
          "text": [
            "Epoch 1/50\n",
            "2084/2084 [==============================] - 11s 5ms/step - loss: 3.2928 - val_loss: 3.1645 - lr: 0.0010\n",
            "Epoch 2/50\n",
            "2084/2084 [==============================] - 8s 4ms/step - loss: 3.3025 - val_loss: 3.1994 - lr: 0.0010\n",
            "Epoch 3/50\n",
            "2084/2084 [==============================] - 10s 5ms/step - loss: 3.2939 - val_loss: 3.1968 - lr: 0.0010\n",
            "Epoch 4/50\n",
            "2084/2084 [==============================] - 10s 5ms/step - loss: 3.2913 - val_loss: 3.1216 - lr: 0.0010\n",
            "Epoch 5/50\n",
            "2084/2084 [==============================] - 9s 4ms/step - loss: 3.3003 - val_loss: 3.0967 - lr: 0.0010\n",
            "Epoch 6/50\n",
            "2084/2084 [==============================] - 10s 5ms/step - loss: 3.2927 - val_loss: 3.1018 - lr: 0.0010\n",
            "Epoch 7/50\n",
            "2084/2084 [==============================] - 10s 5ms/step - loss: 3.2876 - val_loss: 3.1658 - lr: 0.0010\n",
            "Epoch 8/50\n",
            "2084/2084 [==============================] - 9s 4ms/step - loss: 3.2938 - val_loss: 3.2777 - lr: 0.0010\n",
            "Epoch 9/50\n",
            "2084/2084 [==============================] - 9s 4ms/step - loss: 3.2781 - val_loss: 3.1591 - lr: 5.0000e-04\n",
            "Epoch 10/50\n",
            "2084/2084 [==============================] - 10s 5ms/step - loss: 3.2714 - val_loss: 3.1906 - lr: 5.0000e-04\n",
            "Epoch 11/50\n",
            "2084/2084 [==============================] - 9s 4ms/step - loss: 3.2666 - val_loss: 3.2815 - lr: 5.0000e-04\n",
            "Epoch 12/50\n",
            "2084/2084 [==============================] - 10s 5ms/step - loss: 3.2644 - val_loss: 3.1829 - lr: 2.5000e-04\n",
            "Epoch 13/50\n",
            "2084/2084 [==============================] - 10s 5ms/step - loss: 3.2647 - val_loss: 3.1856 - lr: 2.5000e-04\n",
            "Epoch 14/50\n",
            "2084/2084 [==============================] - 9s 4ms/step - loss: 3.2618 - val_loss: 3.2250 - lr: 2.5000e-04\n",
            "Epoch 15/50\n",
            "2084/2084 [==============================] - 9s 4ms/step - loss: 3.2580 - val_loss: 3.2339 - lr: 1.2500e-04\n",
            "Epoch 16/50\n",
            "2084/2084 [==============================] - 10s 5ms/step - loss: 3.2582 - val_loss: 3.1663 - lr: 1.2500e-04\n",
            "Epoch 17/50\n",
            "2084/2084 [==============================] - 9s 4ms/step - loss: 3.2611 - val_loss: 3.1864 - lr: 1.2500e-04\n",
            "Epoch 18/50\n",
            "2084/2084 [==============================] - 10s 5ms/step - loss: 3.2502 - val_loss: 3.1916 - lr: 6.2500e-05\n",
            "Epoch 19/50\n",
            "2084/2084 [==============================] - 10s 5ms/step - loss: 3.2568 - val_loss: 3.2082 - lr: 6.2500e-05\n",
            "Epoch 20/50\n",
            "2084/2084 [==============================] - 9s 4ms/step - loss: 3.2542 - val_loss: 3.1746 - lr: 6.2500e-05\n",
            "Epoch 21/50\n",
            "2084/2084 [==============================] - 9s 4ms/step - loss: 3.2512 - val_loss: 3.1844 - lr: 3.1250e-05\n",
            "Epoch 22/50\n",
            "2084/2084 [==============================] - 10s 5ms/step - loss: 3.2527 - val_loss: 3.1962 - lr: 3.1250e-05\n",
            "Epoch 23/50\n",
            "2084/2084 [==============================] - 9s 4ms/step - loss: 3.2533 - val_loss: 3.1930 - lr: 3.1250e-05\n",
            "Epoch 24/50\n",
            "2084/2084 [==============================] - 9s 4ms/step - loss: 3.2539 - val_loss: 3.1926 - lr: 1.5625e-05\n",
            "Epoch 25/50\n",
            "2084/2084 [==============================] - 10s 5ms/step - loss: 3.2561 - val_loss: 3.1829 - lr: 1.5625e-05\n",
            "Epoch 26/50\n",
            "2084/2084 [==============================] - 9s 4ms/step - loss: 3.2547 - val_loss: 3.1709 - lr: 1.5625e-05\n",
            "Epoch 27/50\n",
            "2084/2084 [==============================] - 10s 5ms/step - loss: 3.2529 - val_loss: 3.1756 - lr: 7.8125e-06\n",
            "Epoch 28/50\n",
            "2084/2084 [==============================] - 10s 5ms/step - loss: 3.2563 - val_loss: 3.1832 - lr: 7.8125e-06\n",
            "Epoch 29/50\n",
            "2084/2084 [==============================] - 10s 5ms/step - loss: 3.2552 - val_loss: 3.1912 - lr: 7.8125e-06\n",
            "Epoch 30/50\n",
            "2084/2084 [==============================] - 9s 4ms/step - loss: 3.2539 - val_loss: 3.1860 - lr: 3.9063e-06\n",
            "Epoch 31/50\n",
            "2084/2084 [==============================] - 10s 5ms/step - loss: 3.2509 - val_loss: 3.1859 - lr: 3.9063e-06\n",
            "Epoch 32/50\n",
            "2084/2084 [==============================] - 10s 5ms/step - loss: 3.2559 - val_loss: 3.1842 - lr: 3.9063e-06\n",
            "Epoch 33/50\n",
            "2084/2084 [==============================] - 8s 4ms/step - loss: 3.2551 - val_loss: 3.1857 - lr: 1.9531e-06\n",
            "Epoch 34/50\n",
            "2084/2084 [==============================] - 10s 5ms/step - loss: 3.2501 - val_loss: 3.1864 - lr: 1.9531e-06\n",
            "Epoch 35/50\n",
            "2084/2084 [==============================] - 10s 5ms/step - loss: 3.2507 - val_loss: 3.1854 - lr: 1.9531e-06\n",
            "Epoch 36/50\n",
            "2084/2084 [==============================] - 8s 4ms/step - loss: 3.2504 - val_loss: 3.1846 - lr: 9.7656e-07\n",
            "Epoch 37/50\n",
            "2084/2084 [==============================] - 10s 5ms/step - loss: 3.2530 - val_loss: 3.1860 - lr: 9.7656e-07\n",
            "Epoch 38/50\n",
            "2084/2084 [==============================] - 10s 5ms/step - loss: 3.2514 - val_loss: 3.1859 - lr: 9.7656e-07\n",
            "Epoch 39/50\n",
            "2084/2084 [==============================] - 9s 4ms/step - loss: 3.2515 - val_loss: 3.1856 - lr: 4.8828e-07\n",
            "Epoch 40/50\n",
            "2084/2084 [==============================] - 10s 5ms/step - loss: 3.2538 - val_loss: 3.1855 - lr: 4.8828e-07\n",
            "Epoch 41/50\n",
            "2084/2084 [==============================] - 10s 5ms/step - loss: 3.2497 - val_loss: 3.1858 - lr: 4.8828e-07\n",
            "Epoch 42/50\n",
            "2084/2084 [==============================] - 9s 4ms/step - loss: 3.2524 - val_loss: 3.1858 - lr: 2.4414e-07\n",
            "Epoch 43/50\n",
            "2084/2084 [==============================] - 10s 5ms/step - loss: 3.2531 - val_loss: 3.1860 - lr: 2.4414e-07\n",
            "Epoch 44/50\n",
            "2084/2084 [==============================] - 10s 5ms/step - loss: 3.2529 - val_loss: 3.1858 - lr: 2.4414e-07\n",
            "Epoch 45/50\n",
            "2084/2084 [==============================] - 10s 5ms/step - loss: 3.2546 - val_loss: 3.1856 - lr: 1.2207e-07\n",
            "Epoch 46/50\n",
            "2084/2084 [==============================] - 9s 4ms/step - loss: 3.2550 - val_loss: 3.1856 - lr: 1.2207e-07\n",
            "Epoch 47/50\n",
            "2084/2084 [==============================] - 10s 5ms/step - loss: 3.2532 - val_loss: 3.1854 - lr: 1.2207e-07\n",
            "Epoch 48/50\n",
            "2084/2084 [==============================] - 10s 5ms/step - loss: 3.2514 - val_loss: 3.1854 - lr: 6.1035e-08\n",
            "Epoch 49/50\n",
            "2084/2084 [==============================] - 9s 4ms/step - loss: 3.2511 - val_loss: 3.1854 - lr: 6.1035e-08\n",
            "Epoch 50/50\n",
            "2084/2084 [==============================] - 12s 6ms/step - loss: 3.2557 - val_loss: 3.1854 - lr: 6.1035e-08\n"
          ]
        }
      ]
    },
    {
      "cell_type": "markdown",
      "source": [
        "# Saving Model"
      ],
      "metadata": {
        "id": "NIL-VwrBDzxE"
      }
    },
    {
      "cell_type": "code",
      "source": [
        "model.save('weather_model.h5')"
      ],
      "metadata": {
        "id": "OKfTeTpEfdBT"
      },
      "execution_count": null,
      "outputs": []
    },
    {
      "cell_type": "code",
      "source": [
        "# Evaluate the model on the validation set\n",
        "val_loss = model.evaluate(X_val, y_val)\n",
        "print(f\"Validation Loss: {val_loss}\")"
      ],
      "metadata": {
        "colab": {
          "base_uri": "https://localhost:8080/"
        },
        "id": "c4DWV51gayUi",
        "outputId": "c8076074-a77b-4a56-b99a-b3103061d5b6"
      },
      "execution_count": null,
      "outputs": [
        {
          "output_type": "stream",
          "name": "stdout",
          "text": [
            "521/521 [==============================] - 1s 2ms/step - loss: 3.1854\n",
            "Validation Loss: 3.185415029525757\n"
          ]
        }
      ]
    },
    {
      "cell_type": "code",
      "source": [
        "# Calculate accuracy (you can define a custom metric based on your requirements)\n",
        "# In regression tasks like this, accuracy is not typically used, but you can calculate metrics like RMSE or MAE.\n",
        "from sklearn.metrics import mean_squared_error\n",
        "rmse = np.sqrt(mean_squared_error(y_val, y_pred))\n",
        "print(f\"Root Mean Squared Error (RMSE): {rmse}\")"
      ],
      "metadata": {
        "colab": {
          "base_uri": "https://localhost:8080/"
        },
        "id": "CezOWCEma9WL",
        "outputId": "dd4475a6-fc74-4843-f01b-521bb1aa1d2d"
      },
      "execution_count": null,
      "outputs": [
        {
          "output_type": "stream",
          "name": "stdout",
          "text": [
            "Root Mean Squared Error (RMSE): 1.784773145381751\n"
          ]
        }
      ]
    },
    {
      "cell_type": "code",
      "source": [
        "# Predict on validation data\n",
        "y_pred = model.predict([[23,60]])\n",
        "print(y_pred)"
      ],
      "metadata": {
        "colab": {
          "base_uri": "https://localhost:8080/"
        },
        "id": "Iokj-5CDa6GZ",
        "outputId": "84982888-1ffb-48c1-a053-e038c6586e9c"
      },
      "execution_count": null,
      "outputs": [
        {
          "output_type": "stream",
          "name": "stdout",
          "text": [
            "1/1 [==============================] - 0s 81ms/step\n",
            "[[2.1773152 4.7605786]]\n"
          ]
        }
      ]
    },
    {
      "cell_type": "markdown",
      "source": [
        "Model Creation End"
      ],
      "metadata": {
        "id": "kVkYhxf4F1za"
      }
    },
    {
      "cell_type": "markdown",
      "source": [
        "# Firebase Code"
      ],
      "metadata": {
        "id": "Dg2avMIZGNwC"
      }
    },
    {
      "cell_type": "code",
      "source": [
        "def getTempHum():\n",
        "  ref = db.reference(\"/ESP/lj496azHzjSQi0hP3GJ65MfFMbA2/current/\")\n",
        "  data = ref.get() #return dictionary with all your data inside that path\n",
        "  tempHum = []\n",
        "  temp = 0.0\n",
        "  hum = 0.0\n",
        "  for key, value in data.items():\n",
        "    if(key == \"tempSensor\"):\n",
        "      temp = float(value)\n",
        "    if(key == \"humSensor\"):\n",
        "      hum = float(value)\n",
        "  tempHum.append(temp)\n",
        "  tempHum.append(hum)\n",
        "\n",
        "  return tempHum"
      ],
      "metadata": {
        "id": "XhPiIEwIGQ2C"
      },
      "execution_count": null,
      "outputs": []
    },
    {
      "cell_type": "code",
      "source": [
        "def updateWindData():\n",
        "  ref = db.reference(\"/PYTHON/lj496azHzjSQi0hP3GJ65MfFMbA2/\")\n",
        "  best_sellers = ref.get() #return dictionary with all your data inside that path\n",
        "  print(best_sellers.items()) #dict_items, array of tuples, each tuple contain (key\"real key of data\", value)\n",
        "  print(type(best_sellers.items()))\n",
        "  tempHum = [getTempHum()]\n",
        "  predection = model.predict(tempHum)[0]\n",
        "  windSpeed = predection[0]\n",
        "  maxSpeed = predection[1]\n",
        "  for key, value in best_sellers.items():\n",
        "    if(key == \"windValue\"):\n",
        "      ref.update({\"windValue\":str(windSpeed)})\n",
        "    if(key == \"maxValue\"):\n",
        "      ref.update({\"maxValue\":str(maxSpeed)})\n",
        "  print(\"Predection Done Successfully\")\n",
        "  ref.update({\"predict\":\"no\"})"
      ],
      "metadata": {
        "id": "DY-gzNn6HFhN"
      },
      "execution_count": null,
      "outputs": []
    },
    {
      "cell_type": "code",
      "source": [
        "while(1):\n",
        "  ref = db.reference(\"/PYTHON/lj496azHzjSQi0hP3GJ65MfFMbA2/\")\n",
        "  data = ref.get() #return dictionary with all your data inside that path\n",
        "\n",
        "  for key, value in data.items():\n",
        "    if(key == \"predict\" and value == \"yes\"):\n",
        "      updateWindData()\n",
        "    elif(key == \"predict\" and value == \"no\"):\n",
        "      pass"
      ],
      "metadata": {
        "colab": {
          "base_uri": "https://localhost:8080/",
          "height": 750
        },
        "id": "GJJtVg0wGT76",
        "outputId": "773544f5-8188-4899-f52a-a5eb907a7d87"
      },
      "execution_count": null,
      "outputs": [
        {
          "output_type": "stream",
          "name": "stdout",
          "text": [
            "dict_items([('maxValue', '4.998986'), ('predict', 'yes'), ('windValue', '2.2336907')])\n",
            "<class 'dict_items'>\n",
            "1/1 [==============================] - 3s 3s/step\n",
            "Predection Done Successfully\n",
            "dict_items([('maxValue', '4.7738214'), ('predict', 'yes'), ('windValue', '2.1716568')])\n",
            "<class 'dict_items'>\n",
            "1/1 [==============================] - 0s 31ms/step\n",
            "Predection Done Successfully\n",
            "dict_items([('maxValue', '4.7857475'), ('predict', 'yes'), ('windValue', '2.1776443')])\n",
            "<class 'dict_items'>\n",
            "1/1 [==============================] - 0s 48ms/step\n",
            "Predection Done Successfully\n",
            "dict_items([('maxValue', '4.7857475'), ('predict', 'yes'), ('windValue', '2.1776443')])\n",
            "<class 'dict_items'>\n",
            "1/1 [==============================] - 0s 52ms/step\n",
            "Predection Done Successfully\n",
            "dict_items([('maxValue', '4.7857475'), ('predict', 'yes'), ('windValue', '2.1776443')])\n",
            "<class 'dict_items'>\n",
            "1/1 [==============================] - 0s 56ms/step\n",
            "Predection Done Successfully\n"
          ]
        },
        {
          "output_type": "error",
          "ename": "KeyboardInterrupt",
          "evalue": "ignored",
          "traceback": [
            "\u001b[0;31m---------------------------------------------------------------------------\u001b[0m",
            "\u001b[0;31mKeyboardInterrupt\u001b[0m                         Traceback (most recent call last)",
            "\u001b[0;32m<ipython-input-10-7283ff196f83>\u001b[0m in \u001b[0;36m<cell line: 1>\u001b[0;34m()\u001b[0m\n\u001b[1;32m      1\u001b[0m \u001b[0;32mwhile\u001b[0m\u001b[0;34m(\u001b[0m\u001b[0;36m1\u001b[0m\u001b[0;34m)\u001b[0m\u001b[0;34m:\u001b[0m\u001b[0;34m\u001b[0m\u001b[0;34m\u001b[0m\u001b[0m\n\u001b[1;32m      2\u001b[0m   \u001b[0mref\u001b[0m \u001b[0;34m=\u001b[0m \u001b[0mdb\u001b[0m\u001b[0;34m.\u001b[0m\u001b[0mreference\u001b[0m\u001b[0;34m(\u001b[0m\u001b[0;34m\"/PYTHON/lj496azHzjSQi0hP3GJ65MfFMbA2/\"\u001b[0m\u001b[0;34m)\u001b[0m\u001b[0;34m\u001b[0m\u001b[0;34m\u001b[0m\u001b[0m\n\u001b[0;32m----> 3\u001b[0;31m   \u001b[0mdata\u001b[0m \u001b[0;34m=\u001b[0m \u001b[0mref\u001b[0m\u001b[0;34m.\u001b[0m\u001b[0mget\u001b[0m\u001b[0;34m(\u001b[0m\u001b[0;34m)\u001b[0m \u001b[0;31m#return dictionary with all your data inside that path\u001b[0m\u001b[0;34m\u001b[0m\u001b[0;34m\u001b[0m\u001b[0m\n\u001b[0m\u001b[1;32m      4\u001b[0m \u001b[0;34m\u001b[0m\u001b[0m\n\u001b[1;32m      5\u001b[0m   \u001b[0;32mfor\u001b[0m \u001b[0mkey\u001b[0m\u001b[0;34m,\u001b[0m \u001b[0mvalue\u001b[0m \u001b[0;32min\u001b[0m \u001b[0mdata\u001b[0m\u001b[0;34m.\u001b[0m\u001b[0mitems\u001b[0m\u001b[0;34m(\u001b[0m\u001b[0;34m)\u001b[0m\u001b[0;34m:\u001b[0m\u001b[0;34m\u001b[0m\u001b[0;34m\u001b[0m\u001b[0m\n",
            "\u001b[0;32m/usr/local/lib/python3.10/dist-packages/firebase_admin/db.py\u001b[0m in \u001b[0;36mget\u001b[0;34m(self, etag, shallow)\u001b[0m\n\u001b[1;32m    219\u001b[0m \u001b[0;34m\u001b[0m\u001b[0m\n\u001b[1;32m    220\u001b[0m         \u001b[0mparams\u001b[0m \u001b[0;34m=\u001b[0m \u001b[0;34m'shallow=true'\u001b[0m \u001b[0;32mif\u001b[0m \u001b[0mshallow\u001b[0m \u001b[0;32melse\u001b[0m \u001b[0;32mNone\u001b[0m\u001b[0;34m\u001b[0m\u001b[0;34m\u001b[0m\u001b[0m\n\u001b[0;32m--> 221\u001b[0;31m         \u001b[0;32mreturn\u001b[0m \u001b[0mself\u001b[0m\u001b[0;34m.\u001b[0m\u001b[0m_client\u001b[0m\u001b[0;34m.\u001b[0m\u001b[0mbody\u001b[0m\u001b[0;34m(\u001b[0m\u001b[0;34m'get'\u001b[0m\u001b[0;34m,\u001b[0m \u001b[0mself\u001b[0m\u001b[0;34m.\u001b[0m\u001b[0m_add_suffix\u001b[0m\u001b[0;34m(\u001b[0m\u001b[0;34m)\u001b[0m\u001b[0;34m,\u001b[0m \u001b[0mparams\u001b[0m\u001b[0;34m=\u001b[0m\u001b[0mparams\u001b[0m\u001b[0;34m)\u001b[0m\u001b[0;34m\u001b[0m\u001b[0;34m\u001b[0m\u001b[0m\n\u001b[0m\u001b[1;32m    222\u001b[0m \u001b[0;34m\u001b[0m\u001b[0m\n\u001b[1;32m    223\u001b[0m     \u001b[0;32mdef\u001b[0m \u001b[0mget_if_changed\u001b[0m\u001b[0;34m(\u001b[0m\u001b[0mself\u001b[0m\u001b[0;34m,\u001b[0m \u001b[0metag\u001b[0m\u001b[0;34m)\u001b[0m\u001b[0;34m:\u001b[0m\u001b[0;34m\u001b[0m\u001b[0;34m\u001b[0m\u001b[0m\n",
            "\u001b[0;32m/usr/local/lib/python3.10/dist-packages/firebase_admin/_http_client.py\u001b[0m in \u001b[0;36mbody\u001b[0;34m(self, method, url, **kwargs)\u001b[0m\n\u001b[1;32m    129\u001b[0m \u001b[0;34m\u001b[0m\u001b[0m\n\u001b[1;32m    130\u001b[0m     \u001b[0;32mdef\u001b[0m \u001b[0mbody\u001b[0m\u001b[0;34m(\u001b[0m\u001b[0mself\u001b[0m\u001b[0;34m,\u001b[0m \u001b[0mmethod\u001b[0m\u001b[0;34m,\u001b[0m \u001b[0murl\u001b[0m\u001b[0;34m,\u001b[0m \u001b[0;34m**\u001b[0m\u001b[0mkwargs\u001b[0m\u001b[0;34m)\u001b[0m\u001b[0;34m:\u001b[0m\u001b[0;34m\u001b[0m\u001b[0;34m\u001b[0m\u001b[0m\n\u001b[0;32m--> 131\u001b[0;31m         \u001b[0mresp\u001b[0m \u001b[0;34m=\u001b[0m \u001b[0mself\u001b[0m\u001b[0;34m.\u001b[0m\u001b[0mrequest\u001b[0m\u001b[0;34m(\u001b[0m\u001b[0mmethod\u001b[0m\u001b[0;34m,\u001b[0m \u001b[0murl\u001b[0m\u001b[0;34m,\u001b[0m \u001b[0;34m**\u001b[0m\u001b[0mkwargs\u001b[0m\u001b[0;34m)\u001b[0m\u001b[0;34m\u001b[0m\u001b[0;34m\u001b[0m\u001b[0m\n\u001b[0m\u001b[1;32m    132\u001b[0m         \u001b[0;32mreturn\u001b[0m \u001b[0mself\u001b[0m\u001b[0;34m.\u001b[0m\u001b[0mparse_body\u001b[0m\u001b[0;34m(\u001b[0m\u001b[0mresp\u001b[0m\u001b[0;34m)\u001b[0m\u001b[0;34m\u001b[0m\u001b[0;34m\u001b[0m\u001b[0m\n\u001b[1;32m    133\u001b[0m \u001b[0;34m\u001b[0m\u001b[0m\n",
            "\u001b[0;32m/usr/local/lib/python3.10/dist-packages/firebase_admin/db.py\u001b[0m in \u001b[0;36mrequest\u001b[0;34m(self, method, url, **kwargs)\u001b[0m\n\u001b[1;32m    927\u001b[0m \u001b[0;34m\u001b[0m\u001b[0m\n\u001b[1;32m    928\u001b[0m         \u001b[0;32mtry\u001b[0m\u001b[0;34m:\u001b[0m\u001b[0;34m\u001b[0m\u001b[0;34m\u001b[0m\u001b[0m\n\u001b[0;32m--> 929\u001b[0;31m             \u001b[0;32mreturn\u001b[0m \u001b[0msuper\u001b[0m\u001b[0;34m(\u001b[0m\u001b[0m_Client\u001b[0m\u001b[0;34m,\u001b[0m \u001b[0mself\u001b[0m\u001b[0;34m)\u001b[0m\u001b[0;34m.\u001b[0m\u001b[0mrequest\u001b[0m\u001b[0;34m(\u001b[0m\u001b[0mmethod\u001b[0m\u001b[0;34m,\u001b[0m \u001b[0murl\u001b[0m\u001b[0;34m,\u001b[0m \u001b[0;34m**\u001b[0m\u001b[0mkwargs\u001b[0m\u001b[0;34m)\u001b[0m\u001b[0;34m\u001b[0m\u001b[0;34m\u001b[0m\u001b[0m\n\u001b[0m\u001b[1;32m    930\u001b[0m         \u001b[0;32mexcept\u001b[0m \u001b[0mrequests\u001b[0m\u001b[0;34m.\u001b[0m\u001b[0mexceptions\u001b[0m\u001b[0;34m.\u001b[0m\u001b[0mRequestException\u001b[0m \u001b[0;32mas\u001b[0m \u001b[0merror\u001b[0m\u001b[0;34m:\u001b[0m\u001b[0;34m\u001b[0m\u001b[0;34m\u001b[0m\u001b[0m\n\u001b[1;32m    931\u001b[0m             \u001b[0;32mraise\u001b[0m \u001b[0m_Client\u001b[0m\u001b[0;34m.\u001b[0m\u001b[0mhandle_rtdb_error\u001b[0m\u001b[0;34m(\u001b[0m\u001b[0merror\u001b[0m\u001b[0;34m)\u001b[0m\u001b[0;34m\u001b[0m\u001b[0;34m\u001b[0m\u001b[0m\n",
            "\u001b[0;32m/usr/local/lib/python3.10/dist-packages/firebase_admin/_http_client.py\u001b[0m in \u001b[0;36mrequest\u001b[0;34m(self, method, url, **kwargs)\u001b[0m\n\u001b[1;32m    116\u001b[0m         \u001b[0;32mif\u001b[0m \u001b[0;34m'timeout'\u001b[0m \u001b[0;32mnot\u001b[0m \u001b[0;32min\u001b[0m \u001b[0mkwargs\u001b[0m\u001b[0;34m:\u001b[0m\u001b[0;34m\u001b[0m\u001b[0;34m\u001b[0m\u001b[0m\n\u001b[1;32m    117\u001b[0m             \u001b[0mkwargs\u001b[0m\u001b[0;34m[\u001b[0m\u001b[0;34m'timeout'\u001b[0m\u001b[0;34m]\u001b[0m \u001b[0;34m=\u001b[0m \u001b[0mself\u001b[0m\u001b[0;34m.\u001b[0m\u001b[0mtimeout\u001b[0m\u001b[0;34m\u001b[0m\u001b[0;34m\u001b[0m\u001b[0m\n\u001b[0;32m--> 118\u001b[0;31m         \u001b[0mresp\u001b[0m \u001b[0;34m=\u001b[0m \u001b[0mself\u001b[0m\u001b[0;34m.\u001b[0m\u001b[0m_session\u001b[0m\u001b[0;34m.\u001b[0m\u001b[0mrequest\u001b[0m\u001b[0;34m(\u001b[0m\u001b[0mmethod\u001b[0m\u001b[0;34m,\u001b[0m \u001b[0mself\u001b[0m\u001b[0;34m.\u001b[0m\u001b[0mbase_url\u001b[0m \u001b[0;34m+\u001b[0m \u001b[0murl\u001b[0m\u001b[0;34m,\u001b[0m \u001b[0;34m**\u001b[0m\u001b[0mkwargs\u001b[0m\u001b[0;34m)\u001b[0m\u001b[0;34m\u001b[0m\u001b[0;34m\u001b[0m\u001b[0m\n\u001b[0m\u001b[1;32m    119\u001b[0m         \u001b[0mresp\u001b[0m\u001b[0;34m.\u001b[0m\u001b[0mraise_for_status\u001b[0m\u001b[0;34m(\u001b[0m\u001b[0;34m)\u001b[0m\u001b[0;34m\u001b[0m\u001b[0;34m\u001b[0m\u001b[0m\n\u001b[1;32m    120\u001b[0m         \u001b[0;32mreturn\u001b[0m \u001b[0mresp\u001b[0m\u001b[0;34m\u001b[0m\u001b[0;34m\u001b[0m\u001b[0m\n",
            "\u001b[0;32m/usr/local/lib/python3.10/dist-packages/google/auth/transport/requests.py\u001b[0m in \u001b[0;36mrequest\u001b[0;34m(self, method, url, data, headers, max_allowed_time, timeout, **kwargs)\u001b[0m\n\u001b[1;32m    547\u001b[0m \u001b[0;34m\u001b[0m\u001b[0m\n\u001b[1;32m    548\u001b[0m         \u001b[0;32mwith\u001b[0m \u001b[0mTimeoutGuard\u001b[0m\u001b[0;34m(\u001b[0m\u001b[0mremaining_time\u001b[0m\u001b[0;34m)\u001b[0m \u001b[0;32mas\u001b[0m \u001b[0mguard\u001b[0m\u001b[0;34m:\u001b[0m\u001b[0;34m\u001b[0m\u001b[0;34m\u001b[0m\u001b[0m\n\u001b[0;32m--> 549\u001b[0;31m             response = super(AuthorizedSession, self).request(\n\u001b[0m\u001b[1;32m    550\u001b[0m                 \u001b[0mmethod\u001b[0m\u001b[0;34m,\u001b[0m\u001b[0;34m\u001b[0m\u001b[0;34m\u001b[0m\u001b[0m\n\u001b[1;32m    551\u001b[0m                 \u001b[0murl\u001b[0m\u001b[0;34m,\u001b[0m\u001b[0;34m\u001b[0m\u001b[0;34m\u001b[0m\u001b[0m\n",
            "\u001b[0;32m/usr/local/lib/python3.10/dist-packages/requests/sessions.py\u001b[0m in \u001b[0;36mrequest\u001b[0;34m(self, method, url, params, data, headers, cookies, files, auth, timeout, allow_redirects, proxies, hooks, stream, verify, cert, json)\u001b[0m\n\u001b[1;32m    587\u001b[0m         }\n\u001b[1;32m    588\u001b[0m         \u001b[0msend_kwargs\u001b[0m\u001b[0;34m.\u001b[0m\u001b[0mupdate\u001b[0m\u001b[0;34m(\u001b[0m\u001b[0msettings\u001b[0m\u001b[0;34m)\u001b[0m\u001b[0;34m\u001b[0m\u001b[0;34m\u001b[0m\u001b[0m\n\u001b[0;32m--> 589\u001b[0;31m         \u001b[0mresp\u001b[0m \u001b[0;34m=\u001b[0m \u001b[0mself\u001b[0m\u001b[0;34m.\u001b[0m\u001b[0msend\u001b[0m\u001b[0;34m(\u001b[0m\u001b[0mprep\u001b[0m\u001b[0;34m,\u001b[0m \u001b[0;34m**\u001b[0m\u001b[0msend_kwargs\u001b[0m\u001b[0;34m)\u001b[0m\u001b[0;34m\u001b[0m\u001b[0;34m\u001b[0m\u001b[0m\n\u001b[0m\u001b[1;32m    590\u001b[0m \u001b[0;34m\u001b[0m\u001b[0m\n\u001b[1;32m    591\u001b[0m         \u001b[0;32mreturn\u001b[0m \u001b[0mresp\u001b[0m\u001b[0;34m\u001b[0m\u001b[0;34m\u001b[0m\u001b[0m\n",
            "\u001b[0;32m/usr/local/lib/python3.10/dist-packages/requests/sessions.py\u001b[0m in \u001b[0;36msend\u001b[0;34m(self, request, **kwargs)\u001b[0m\n\u001b[1;32m    701\u001b[0m \u001b[0;34m\u001b[0m\u001b[0m\n\u001b[1;32m    702\u001b[0m         \u001b[0;31m# Send the request\u001b[0m\u001b[0;34m\u001b[0m\u001b[0;34m\u001b[0m\u001b[0m\n\u001b[0;32m--> 703\u001b[0;31m         \u001b[0mr\u001b[0m \u001b[0;34m=\u001b[0m \u001b[0madapter\u001b[0m\u001b[0;34m.\u001b[0m\u001b[0msend\u001b[0m\u001b[0;34m(\u001b[0m\u001b[0mrequest\u001b[0m\u001b[0;34m,\u001b[0m \u001b[0;34m**\u001b[0m\u001b[0mkwargs\u001b[0m\u001b[0;34m)\u001b[0m\u001b[0;34m\u001b[0m\u001b[0;34m\u001b[0m\u001b[0m\n\u001b[0m\u001b[1;32m    704\u001b[0m \u001b[0;34m\u001b[0m\u001b[0m\n\u001b[1;32m    705\u001b[0m         \u001b[0;31m# Total elapsed time of the request (approximately)\u001b[0m\u001b[0;34m\u001b[0m\u001b[0;34m\u001b[0m\u001b[0m\n",
            "\u001b[0;32m/usr/local/lib/python3.10/dist-packages/requests/adapters.py\u001b[0m in \u001b[0;36msend\u001b[0;34m(self, request, stream, timeout, verify, cert, proxies)\u001b[0m\n\u001b[1;32m    484\u001b[0m \u001b[0;34m\u001b[0m\u001b[0m\n\u001b[1;32m    485\u001b[0m         \u001b[0;32mtry\u001b[0m\u001b[0;34m:\u001b[0m\u001b[0;34m\u001b[0m\u001b[0;34m\u001b[0m\u001b[0m\n\u001b[0;32m--> 486\u001b[0;31m             resp = conn.urlopen(\n\u001b[0m\u001b[1;32m    487\u001b[0m                 \u001b[0mmethod\u001b[0m\u001b[0;34m=\u001b[0m\u001b[0mrequest\u001b[0m\u001b[0;34m.\u001b[0m\u001b[0mmethod\u001b[0m\u001b[0;34m,\u001b[0m\u001b[0;34m\u001b[0m\u001b[0;34m\u001b[0m\u001b[0m\n\u001b[1;32m    488\u001b[0m                 \u001b[0murl\u001b[0m\u001b[0;34m=\u001b[0m\u001b[0murl\u001b[0m\u001b[0;34m,\u001b[0m\u001b[0;34m\u001b[0m\u001b[0;34m\u001b[0m\u001b[0m\n",
            "\u001b[0;32m/usr/local/lib/python3.10/dist-packages/urllib3/connectionpool.py\u001b[0m in \u001b[0;36murlopen\u001b[0;34m(self, method, url, body, headers, retries, redirect, assert_same_host, timeout, pool_timeout, release_conn, chunked, body_pos, preload_content, decode_content, **response_kw)\u001b[0m\n\u001b[1;32m    788\u001b[0m \u001b[0;34m\u001b[0m\u001b[0m\n\u001b[1;32m    789\u001b[0m             \u001b[0;31m# Make the request on the HTTPConnection object\u001b[0m\u001b[0;34m\u001b[0m\u001b[0;34m\u001b[0m\u001b[0m\n\u001b[0;32m--> 790\u001b[0;31m             response = self._make_request(\n\u001b[0m\u001b[1;32m    791\u001b[0m                 \u001b[0mconn\u001b[0m\u001b[0;34m,\u001b[0m\u001b[0;34m\u001b[0m\u001b[0;34m\u001b[0m\u001b[0m\n\u001b[1;32m    792\u001b[0m                 \u001b[0mmethod\u001b[0m\u001b[0;34m,\u001b[0m\u001b[0;34m\u001b[0m\u001b[0;34m\u001b[0m\u001b[0m\n",
            "\u001b[0;32m/usr/local/lib/python3.10/dist-packages/urllib3/connectionpool.py\u001b[0m in \u001b[0;36m_make_request\u001b[0;34m(self, conn, method, url, body, headers, retries, timeout, chunked, response_conn, preload_content, decode_content, enforce_content_length)\u001b[0m\n\u001b[1;32m    534\u001b[0m         \u001b[0;31m# Receive the response from the server\u001b[0m\u001b[0;34m\u001b[0m\u001b[0;34m\u001b[0m\u001b[0m\n\u001b[1;32m    535\u001b[0m         \u001b[0;32mtry\u001b[0m\u001b[0;34m:\u001b[0m\u001b[0;34m\u001b[0m\u001b[0;34m\u001b[0m\u001b[0m\n\u001b[0;32m--> 536\u001b[0;31m             \u001b[0mresponse\u001b[0m \u001b[0;34m=\u001b[0m \u001b[0mconn\u001b[0m\u001b[0;34m.\u001b[0m\u001b[0mgetresponse\u001b[0m\u001b[0;34m(\u001b[0m\u001b[0;34m)\u001b[0m\u001b[0;34m\u001b[0m\u001b[0;34m\u001b[0m\u001b[0m\n\u001b[0m\u001b[1;32m    537\u001b[0m         \u001b[0;32mexcept\u001b[0m \u001b[0;34m(\u001b[0m\u001b[0mBaseSSLError\u001b[0m\u001b[0;34m,\u001b[0m \u001b[0mOSError\u001b[0m\u001b[0;34m)\u001b[0m \u001b[0;32mas\u001b[0m \u001b[0me\u001b[0m\u001b[0;34m:\u001b[0m\u001b[0;34m\u001b[0m\u001b[0;34m\u001b[0m\u001b[0m\n\u001b[1;32m    538\u001b[0m             \u001b[0mself\u001b[0m\u001b[0;34m.\u001b[0m\u001b[0m_raise_timeout\u001b[0m\u001b[0;34m(\u001b[0m\u001b[0merr\u001b[0m\u001b[0;34m=\u001b[0m\u001b[0me\u001b[0m\u001b[0;34m,\u001b[0m \u001b[0murl\u001b[0m\u001b[0;34m=\u001b[0m\u001b[0murl\u001b[0m\u001b[0;34m,\u001b[0m \u001b[0mtimeout_value\u001b[0m\u001b[0;34m=\u001b[0m\u001b[0mread_timeout\u001b[0m\u001b[0;34m)\u001b[0m\u001b[0;34m\u001b[0m\u001b[0;34m\u001b[0m\u001b[0m\n",
            "\u001b[0;32m/usr/local/lib/python3.10/dist-packages/urllib3/connection.py\u001b[0m in \u001b[0;36mgetresponse\u001b[0;34m(self)\u001b[0m\n\u001b[1;32m    459\u001b[0m \u001b[0;34m\u001b[0m\u001b[0m\n\u001b[1;32m    460\u001b[0m         \u001b[0;31m# Get the response from http.client.HTTPConnection\u001b[0m\u001b[0;34m\u001b[0m\u001b[0;34m\u001b[0m\u001b[0m\n\u001b[0;32m--> 461\u001b[0;31m         \u001b[0mhttplib_response\u001b[0m \u001b[0;34m=\u001b[0m \u001b[0msuper\u001b[0m\u001b[0;34m(\u001b[0m\u001b[0;34m)\u001b[0m\u001b[0;34m.\u001b[0m\u001b[0mgetresponse\u001b[0m\u001b[0;34m(\u001b[0m\u001b[0;34m)\u001b[0m\u001b[0;34m\u001b[0m\u001b[0;34m\u001b[0m\u001b[0m\n\u001b[0m\u001b[1;32m    462\u001b[0m \u001b[0;34m\u001b[0m\u001b[0m\n\u001b[1;32m    463\u001b[0m         \u001b[0;32mtry\u001b[0m\u001b[0;34m:\u001b[0m\u001b[0;34m\u001b[0m\u001b[0;34m\u001b[0m\u001b[0m\n",
            "\u001b[0;32m/usr/lib/python3.10/http/client.py\u001b[0m in \u001b[0;36mgetresponse\u001b[0;34m(self)\u001b[0m\n\u001b[1;32m   1373\u001b[0m         \u001b[0;32mtry\u001b[0m\u001b[0;34m:\u001b[0m\u001b[0;34m\u001b[0m\u001b[0;34m\u001b[0m\u001b[0m\n\u001b[1;32m   1374\u001b[0m             \u001b[0;32mtry\u001b[0m\u001b[0;34m:\u001b[0m\u001b[0;34m\u001b[0m\u001b[0;34m\u001b[0m\u001b[0m\n\u001b[0;32m-> 1375\u001b[0;31m                 \u001b[0mresponse\u001b[0m\u001b[0;34m.\u001b[0m\u001b[0mbegin\u001b[0m\u001b[0;34m(\u001b[0m\u001b[0;34m)\u001b[0m\u001b[0;34m\u001b[0m\u001b[0;34m\u001b[0m\u001b[0m\n\u001b[0m\u001b[1;32m   1376\u001b[0m             \u001b[0;32mexcept\u001b[0m \u001b[0mConnectionError\u001b[0m\u001b[0;34m:\u001b[0m\u001b[0;34m\u001b[0m\u001b[0;34m\u001b[0m\u001b[0m\n\u001b[1;32m   1377\u001b[0m                 \u001b[0mself\u001b[0m\u001b[0;34m.\u001b[0m\u001b[0mclose\u001b[0m\u001b[0;34m(\u001b[0m\u001b[0;34m)\u001b[0m\u001b[0;34m\u001b[0m\u001b[0;34m\u001b[0m\u001b[0m\n",
            "\u001b[0;32m/usr/lib/python3.10/http/client.py\u001b[0m in \u001b[0;36mbegin\u001b[0;34m(self)\u001b[0m\n\u001b[1;32m    316\u001b[0m         \u001b[0;31m# read until we get a non-100 response\u001b[0m\u001b[0;34m\u001b[0m\u001b[0;34m\u001b[0m\u001b[0m\n\u001b[1;32m    317\u001b[0m         \u001b[0;32mwhile\u001b[0m \u001b[0;32mTrue\u001b[0m\u001b[0;34m:\u001b[0m\u001b[0;34m\u001b[0m\u001b[0;34m\u001b[0m\u001b[0m\n\u001b[0;32m--> 318\u001b[0;31m             \u001b[0mversion\u001b[0m\u001b[0;34m,\u001b[0m \u001b[0mstatus\u001b[0m\u001b[0;34m,\u001b[0m \u001b[0mreason\u001b[0m \u001b[0;34m=\u001b[0m \u001b[0mself\u001b[0m\u001b[0;34m.\u001b[0m\u001b[0m_read_status\u001b[0m\u001b[0;34m(\u001b[0m\u001b[0;34m)\u001b[0m\u001b[0;34m\u001b[0m\u001b[0;34m\u001b[0m\u001b[0m\n\u001b[0m\u001b[1;32m    319\u001b[0m             \u001b[0;32mif\u001b[0m \u001b[0mstatus\u001b[0m \u001b[0;34m!=\u001b[0m \u001b[0mCONTINUE\u001b[0m\u001b[0;34m:\u001b[0m\u001b[0;34m\u001b[0m\u001b[0;34m\u001b[0m\u001b[0m\n\u001b[1;32m    320\u001b[0m                 \u001b[0;32mbreak\u001b[0m\u001b[0;34m\u001b[0m\u001b[0;34m\u001b[0m\u001b[0m\n",
            "\u001b[0;32m/usr/lib/python3.10/http/client.py\u001b[0m in \u001b[0;36m_read_status\u001b[0;34m(self)\u001b[0m\n\u001b[1;32m    277\u001b[0m \u001b[0;34m\u001b[0m\u001b[0m\n\u001b[1;32m    278\u001b[0m     \u001b[0;32mdef\u001b[0m \u001b[0m_read_status\u001b[0m\u001b[0;34m(\u001b[0m\u001b[0mself\u001b[0m\u001b[0;34m)\u001b[0m\u001b[0;34m:\u001b[0m\u001b[0;34m\u001b[0m\u001b[0;34m\u001b[0m\u001b[0m\n\u001b[0;32m--> 279\u001b[0;31m         \u001b[0mline\u001b[0m \u001b[0;34m=\u001b[0m \u001b[0mstr\u001b[0m\u001b[0;34m(\u001b[0m\u001b[0mself\u001b[0m\u001b[0;34m.\u001b[0m\u001b[0mfp\u001b[0m\u001b[0;34m.\u001b[0m\u001b[0mreadline\u001b[0m\u001b[0;34m(\u001b[0m\u001b[0m_MAXLINE\u001b[0m \u001b[0;34m+\u001b[0m \u001b[0;36m1\u001b[0m\u001b[0;34m)\u001b[0m\u001b[0;34m,\u001b[0m \u001b[0;34m\"iso-8859-1\"\u001b[0m\u001b[0;34m)\u001b[0m\u001b[0;34m\u001b[0m\u001b[0;34m\u001b[0m\u001b[0m\n\u001b[0m\u001b[1;32m    280\u001b[0m         \u001b[0;32mif\u001b[0m \u001b[0mlen\u001b[0m\u001b[0;34m(\u001b[0m\u001b[0mline\u001b[0m\u001b[0;34m)\u001b[0m \u001b[0;34m>\u001b[0m \u001b[0m_MAXLINE\u001b[0m\u001b[0;34m:\u001b[0m\u001b[0;34m\u001b[0m\u001b[0;34m\u001b[0m\u001b[0m\n\u001b[1;32m    281\u001b[0m             \u001b[0;32mraise\u001b[0m \u001b[0mLineTooLong\u001b[0m\u001b[0;34m(\u001b[0m\u001b[0;34m\"status line\"\u001b[0m\u001b[0;34m)\u001b[0m\u001b[0;34m\u001b[0m\u001b[0;34m\u001b[0m\u001b[0m\n",
            "\u001b[0;32m/usr/lib/python3.10/socket.py\u001b[0m in \u001b[0;36mreadinto\u001b[0;34m(self, b)\u001b[0m\n\u001b[1;32m    703\u001b[0m         \u001b[0;32mwhile\u001b[0m \u001b[0;32mTrue\u001b[0m\u001b[0;34m:\u001b[0m\u001b[0;34m\u001b[0m\u001b[0;34m\u001b[0m\u001b[0m\n\u001b[1;32m    704\u001b[0m             \u001b[0;32mtry\u001b[0m\u001b[0;34m:\u001b[0m\u001b[0;34m\u001b[0m\u001b[0;34m\u001b[0m\u001b[0m\n\u001b[0;32m--> 705\u001b[0;31m                 \u001b[0;32mreturn\u001b[0m \u001b[0mself\u001b[0m\u001b[0;34m.\u001b[0m\u001b[0m_sock\u001b[0m\u001b[0;34m.\u001b[0m\u001b[0mrecv_into\u001b[0m\u001b[0;34m(\u001b[0m\u001b[0mb\u001b[0m\u001b[0;34m)\u001b[0m\u001b[0;34m\u001b[0m\u001b[0;34m\u001b[0m\u001b[0m\n\u001b[0m\u001b[1;32m    706\u001b[0m             \u001b[0;32mexcept\u001b[0m \u001b[0mtimeout\u001b[0m\u001b[0;34m:\u001b[0m\u001b[0;34m\u001b[0m\u001b[0;34m\u001b[0m\u001b[0m\n\u001b[1;32m    707\u001b[0m                 \u001b[0mself\u001b[0m\u001b[0;34m.\u001b[0m\u001b[0m_timeout_occurred\u001b[0m \u001b[0;34m=\u001b[0m \u001b[0;32mTrue\u001b[0m\u001b[0;34m\u001b[0m\u001b[0;34m\u001b[0m\u001b[0m\n",
            "\u001b[0;32m/usr/lib/python3.10/ssl.py\u001b[0m in \u001b[0;36mrecv_into\u001b[0;34m(self, buffer, nbytes, flags)\u001b[0m\n\u001b[1;32m   1272\u001b[0m                   \u001b[0;34m\"non-zero flags not allowed in calls to recv_into() on %s\"\u001b[0m \u001b[0;34m%\u001b[0m\u001b[0;34m\u001b[0m\u001b[0;34m\u001b[0m\u001b[0m\n\u001b[1;32m   1273\u001b[0m                   self.__class__)\n\u001b[0;32m-> 1274\u001b[0;31m             \u001b[0;32mreturn\u001b[0m \u001b[0mself\u001b[0m\u001b[0;34m.\u001b[0m\u001b[0mread\u001b[0m\u001b[0;34m(\u001b[0m\u001b[0mnbytes\u001b[0m\u001b[0;34m,\u001b[0m \u001b[0mbuffer\u001b[0m\u001b[0;34m)\u001b[0m\u001b[0;34m\u001b[0m\u001b[0;34m\u001b[0m\u001b[0m\n\u001b[0m\u001b[1;32m   1275\u001b[0m         \u001b[0;32melse\u001b[0m\u001b[0;34m:\u001b[0m\u001b[0;34m\u001b[0m\u001b[0;34m\u001b[0m\u001b[0m\n\u001b[1;32m   1276\u001b[0m             \u001b[0;32mreturn\u001b[0m \u001b[0msuper\u001b[0m\u001b[0;34m(\u001b[0m\u001b[0;34m)\u001b[0m\u001b[0;34m.\u001b[0m\u001b[0mrecv_into\u001b[0m\u001b[0;34m(\u001b[0m\u001b[0mbuffer\u001b[0m\u001b[0;34m,\u001b[0m \u001b[0mnbytes\u001b[0m\u001b[0;34m,\u001b[0m \u001b[0mflags\u001b[0m\u001b[0;34m)\u001b[0m\u001b[0;34m\u001b[0m\u001b[0;34m\u001b[0m\u001b[0m\n",
            "\u001b[0;32m/usr/lib/python3.10/ssl.py\u001b[0m in \u001b[0;36mread\u001b[0;34m(self, len, buffer)\u001b[0m\n\u001b[1;32m   1128\u001b[0m         \u001b[0;32mtry\u001b[0m\u001b[0;34m:\u001b[0m\u001b[0;34m\u001b[0m\u001b[0;34m\u001b[0m\u001b[0m\n\u001b[1;32m   1129\u001b[0m             \u001b[0;32mif\u001b[0m \u001b[0mbuffer\u001b[0m \u001b[0;32mis\u001b[0m \u001b[0;32mnot\u001b[0m \u001b[0;32mNone\u001b[0m\u001b[0;34m:\u001b[0m\u001b[0;34m\u001b[0m\u001b[0;34m\u001b[0m\u001b[0m\n\u001b[0;32m-> 1130\u001b[0;31m                 \u001b[0;32mreturn\u001b[0m \u001b[0mself\u001b[0m\u001b[0;34m.\u001b[0m\u001b[0m_sslobj\u001b[0m\u001b[0;34m.\u001b[0m\u001b[0mread\u001b[0m\u001b[0;34m(\u001b[0m\u001b[0mlen\u001b[0m\u001b[0;34m,\u001b[0m \u001b[0mbuffer\u001b[0m\u001b[0;34m)\u001b[0m\u001b[0;34m\u001b[0m\u001b[0;34m\u001b[0m\u001b[0m\n\u001b[0m\u001b[1;32m   1131\u001b[0m             \u001b[0;32melse\u001b[0m\u001b[0;34m:\u001b[0m\u001b[0;34m\u001b[0m\u001b[0;34m\u001b[0m\u001b[0m\n\u001b[1;32m   1132\u001b[0m                 \u001b[0;32mreturn\u001b[0m \u001b[0mself\u001b[0m\u001b[0;34m.\u001b[0m\u001b[0m_sslobj\u001b[0m\u001b[0;34m.\u001b[0m\u001b[0mread\u001b[0m\u001b[0;34m(\u001b[0m\u001b[0mlen\u001b[0m\u001b[0;34m)\u001b[0m\u001b[0;34m\u001b[0m\u001b[0;34m\u001b[0m\u001b[0m\n",
            "\u001b[0;31mKeyboardInterrupt\u001b[0m: "
          ]
        }
      ]
    }
  ]
}